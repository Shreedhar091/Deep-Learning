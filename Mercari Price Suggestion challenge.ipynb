{
 "cells": [
  {
   "cell_type": "code",
   "execution_count": 103,
   "metadata": {},
   "outputs": [],
   "source": [
    "## 1.0 Call libraries\n",
    "# 1.1 Data wrangling\n",
    "%reset -f\n",
    "import pandas as pd\n",
    "import numpy as np\n",
    "\n",
    "#1.2 Keras libraries\n",
    "from keras.layers import Input, Dense\n",
    "from keras.layers import Conv1D, MaxPooling1D, Dropout, Flatten,Embedding, GRU\n",
    "from keras.layers.merge import concatenate\n",
    "from keras.models import Model\n",
    "from keras.preprocessing.text import Tokenizer\n",
    "from keras.preprocessing.sequence import pad_sequences\n",
    "\n",
    "# 1.3 For plotting model\n",
    "from keras.utils import  plot_model\n",
    "\n",
    "# 1.4 sklearn libraries\n",
    "from sklearn.preprocessing import StandardScaler\n",
    "from sklearn.preprocessing import OneHotEncoder\n",
    "from sklearn.model_selection import train_test_split\n",
    "from sklearn.preprocessing import LabelEncoder\n",
    "# 1.4 For model plotting\n",
    "import matplotlib.pyplot as plt\n",
    "import pydot\n",
    "from skimage import io\n",
    "\n",
    "# 1.5 Misc\n",
    "import os\n",
    "import time\n"
   ]
  },
  {
   "cell_type": "code",
   "execution_count": 104,
   "metadata": {},
   "outputs": [
    {
     "name": "stdout",
     "output_type": "stream",
     "text": [
      "(1482535, 8)\n"
     ]
    }
   ],
   "source": [
    "## 2.0 Read Data\n",
    "# 2.1\n",
    "pathToData = \"D:\\ShreeTechnical\\MLDL\\Classes\\EX\\ex15\"\n",
    "os.chdir(pathToData)\n",
    "# 2.2\n",
    "data = pd.read_csv(\"train.tsv\",sep='\\t')\n",
    "# 2.3 Inspect the data\n",
    "print(data.shape)      \n",
    "data.head(3)\n",
    "data.tail(3)\n",
    "data.dtypes           \n",
    "data.columns.values   \n",
    "# 2.4 Drop first column: 'train_id', being id column\n",
    "data.drop(['train_id'], axis = 'columns' , inplace = True)"
   ]
  },
  {
   "cell_type": "code",
   "execution_count": 105,
   "metadata": {},
   "outputs": [
    {
     "name": "stdout",
     "output_type": "stream",
     "text": [
      "639013\n",
      "Index(['category_name', 'brand_name', 'item_description'], dtype='object')\n"
     ]
    },
    {
     "data": {
      "text/plain": [
       "0"
      ]
     },
     "execution_count": 105,
     "metadata": {},
     "output_type": "execute_result"
    }
   ],
   "source": [
    "# 2.5 Any missing value?\n",
    "print(data.isnull().values.sum())        \n",
    "\n",
    "# 2.6 Which columns?\n",
    "print(data.columns[data.isnull().sum()  > 0])    \n",
    "\n",
    "# 2.7 Let us follow a conservative and safe approach to fill missing values\n",
    "data.category_name = data.category_name.fillna(\"missing\")\n",
    "data.brand_name = data.brand_name.fillna(\"missing\")\n",
    "data.item_description = data.item_description.fillna(\"missing\")\n",
    "data.isnull().values.sum()        "
   ]
  },
  {
   "cell_type": "code",
   "execution_count": 106,
   "metadata": {},
   "outputs": [],
   "source": [
    "# 3 Divide data into train/test\n",
    "dtrain,  dtest = train_test_split(data, test_size=0.30)"
   ]
  },
  {
   "cell_type": "code",
   "execution_count": 107,
   "metadata": {},
   "outputs": [
    {
     "name": "stdout",
     "output_type": "stream",
     "text": [
      "['name' 'category_name' 'brand_name' 'item_description']\n"
     ]
    },
    {
     "data": {
      "text/plain": [
       "array(['item_condition_id', 'price', 'shipping'], dtype=object)"
      ]
     },
     "execution_count": 107,
     "metadata": {},
     "output_type": "execute_result"
    }
   ],
   "source": [
    "# 4. Which columns are 'object'\n",
    "obj_columns = data.select_dtypes(include = ['object']).columns.values\n",
    "print(obj_columns)\n",
    "\n",
    "# 4.1 Which columns have numeric data\n",
    "num = data.select_dtypes(include = ['int64', 'float64']).columns.values\n",
    "num\n"
   ]
  },
  {
   "cell_type": "code",
   "execution_count": 108,
   "metadata": {},
   "outputs": [
    {
     "data": {
      "text/plain": [
       "1    640549\n",
       "3    432161\n",
       "2    375479\n",
       "4     31962\n",
       "5      2384\n",
       "Name: item_condition_id, dtype: int64"
      ]
     },
     "execution_count": 108,
     "metadata": {},
     "output_type": "execute_result"
    }
   ],
   "source": [
    "# Levels in columns: 'item_condition_id','shipping'\n",
    "data.item_condition_id.value_counts()   "
   ]
  },
  {
   "cell_type": "code",
   "execution_count": 109,
   "metadata": {},
   "outputs": [
    {
     "data": {
      "text/plain": [
       "0    819435\n",
       "1    663100\n",
       "Name: shipping, dtype: int64"
      ]
     },
     "execution_count": 109,
     "metadata": {},
     "output_type": "execute_result"
    }
   ],
   "source": [
    "data.shipping.value_counts()    "
   ]
  },
  {
   "cell_type": "code",
   "execution_count": 110,
   "metadata": {},
   "outputs": [
    {
     "name": "stdout",
     "output_type": "stream",
     "text": [
      "name 1225273\n",
      "category_name 1288\n",
      "brand_name 4810\n",
      "item_description 1281427\n"
     ]
    }
   ],
   "source": [
    "for i in obj_columns:\n",
    "    print(i,len(data[i].value_counts()))"
   ]
  },
  {
   "cell_type": "code",
   "execution_count": 113,
   "metadata": {},
   "outputs": [
    {
     "name": "stderr",
     "output_type": "stream",
     "text": [
      "C:\\Users\\Shree\\Shri\\lib\\site-packages\\sklearn\\preprocessing\\_encoders.py:371: FutureWarning: The handling of integer data will change in version 0.22. Currently, the categories are determined based on the range [0, max(values)], while in the future they will be determined based on the unique values.\n",
      "If you want the future behaviour and silence this warning, you can specify \"categories='auto'\".\n",
      "In case you used a LabelEncoder before this OneHotEncoder to convert the categories to integers, then you can now use the OneHotEncoder directly.\n",
      "  warnings.warn(msg, FutureWarning)\n"
     ]
    },
    {
     "name": "stdout",
     "output_type": "stream",
     "text": [
      "(1037774, 7)\n"
     ]
    },
    {
     "data": {
      "text/plain": [
       "(444761, 7)"
      ]
     },
     "execution_count": 113,
     "metadata": {},
     "output_type": "execute_result"
    }
   ],
   "source": [
    "# 4.4 Final seven obj_columns for One Hot Encoding\n",
    "obj_cols = [\"item_condition_id\", \"shipping\"]\n",
    "ohe = OneHotEncoder()\n",
    "# 4.4.1 Traing on dtrain\n",
    "ohe = ohe.fit(dtrain[obj_cols])\n",
    "# 4.4.2 Transform train (dtrain) and test (dtest) data\n",
    "dtrain_ohe = ohe.transform(dtrain[obj_cols])\n",
    "dtest_ohe = ohe.transform(dtest[obj_cols])\n",
    "# 4.4.3\n",
    "print (dtrain_ohe.shape)       \n",
    "dtest_ohe.shape        "
   ]
  },
  {
   "cell_type": "code",
   "execution_count": 114,
   "metadata": {},
   "outputs": [
    {
     "name": "stderr",
     "output_type": "stream",
     "text": [
      "C:\\Users\\Shree\\Shri\\lib\\site-packages\\ipykernel_launcher.py:5: SettingWithCopyWarning: \n",
      "A value is trying to be set on a copy of a slice from a DataFrame.\n",
      "Try using .loc[row_indexer,col_indexer] = value instead\n",
      "\n",
      "See the caveats in the documentation: http://pandas.pydata.org/pandas-docs/stable/indexing.html#indexing-view-versus-copy\n",
      "  \"\"\"\n",
      "C:\\Users\\Shree\\Shri\\lib\\site-packages\\ipykernel_launcher.py:6: SettingWithCopyWarning: \n",
      "A value is trying to be set on a copy of a slice from a DataFrame.\n",
      "Try using .loc[row_indexer,col_indexer] = value instead\n",
      "\n",
      "See the caveats in the documentation: http://pandas.pydata.org/pandas-docs/stable/indexing.html#indexing-view-versus-copy\n",
      "  \n"
     ]
    }
   ],
   "source": [
    "# 5.0 Label encode name and item_description\n",
    "# 5.1 First 'name'\n",
    "le = LabelEncoder()\n",
    "le.fit(data[\"name\"])                           \n",
    "dtrain[\"nm\"] = le.transform(dtrain['name'])    \n",
    "dtest[\"nm\"] = le.transform(dtest['name'])      "
   ]
  },
  {
   "cell_type": "code",
   "execution_count": 115,
   "metadata": {},
   "outputs": [
    {
     "name": "stderr",
     "output_type": "stream",
     "text": [
      "C:\\Users\\Shree\\Shri\\lib\\site-packages\\ipykernel_launcher.py:4: SettingWithCopyWarning: \n",
      "A value is trying to be set on a copy of a slice from a DataFrame.\n",
      "Try using .loc[row_indexer,col_indexer] = value instead\n",
      "\n",
      "See the caveats in the documentation: http://pandas.pydata.org/pandas-docs/stable/indexing.html#indexing-view-versus-copy\n",
      "  after removing the cwd from sys.path.\n",
      "C:\\Users\\Shree\\Shri\\lib\\site-packages\\ipykernel_launcher.py:5: SettingWithCopyWarning: \n",
      "A value is trying to be set on a copy of a slice from a DataFrame.\n",
      "Try using .loc[row_indexer,col_indexer] = value instead\n",
      "\n",
      "See the caveats in the documentation: http://pandas.pydata.org/pandas-docs/stable/indexing.html#indexing-view-versus-copy\n",
      "  \"\"\"\n"
     ]
    }
   ],
   "source": [
    "# 5.2 Now 'item_description'\n",
    "le = LabelEncoder()\n",
    "le.fit(data[\"item_description\"])                          \n",
    "dtrain[\"ids\"]= le.transform(dtrain['item_description'])   \n",
    "dtest[\"ids\"]= le.transform(dtest['item_description'])"
   ]
  },
  {
   "cell_type": "code",
   "execution_count": 121,
   "metadata": {},
   "outputs": [
    {
     "name": "stderr",
     "output_type": "stream",
     "text": [
      "C:\\Users\\Shree\\Shri\\lib\\site-packages\\ipykernel_launcher.py:4: SettingWithCopyWarning: \n",
      "A value is trying to be set on a copy of a slice from a DataFrame.\n",
      "Try using .loc[row_indexer,col_indexer] = value instead\n",
      "\n",
      "See the caveats in the documentation: http://pandas.pydata.org/pandas-docs/stable/indexing.html#indexing-view-versus-copy\n",
      "  after removing the cwd from sys.path.\n",
      "C:\\Users\\Shree\\Shri\\lib\\site-packages\\ipykernel_launcher.py:5: SettingWithCopyWarning: \n",
      "A value is trying to be set on a copy of a slice from a DataFrame.\n",
      "Try using .loc[row_indexer,col_indexer] = value instead\n",
      "\n",
      "See the caveats in the documentation: http://pandas.pydata.org/pandas-docs/stable/indexing.html#indexing-view-versus-copy\n",
      "  \"\"\"\n",
      "C:\\Users\\Shree\\Shri\\lib\\site-packages\\ipykernel_launcher.py:9: SettingWithCopyWarning: \n",
      "A value is trying to be set on a copy of a slice from a DataFrame.\n",
      "Try using .loc[row_indexer,col_indexer] = value instead\n",
      "\n",
      "See the caveats in the documentation: http://pandas.pydata.org/pandas-docs/stable/indexing.html#indexing-view-versus-copy\n",
      "  if __name__ == '__main__':\n",
      "C:\\Users\\Shree\\Shri\\lib\\site-packages\\ipykernel_launcher.py:10: SettingWithCopyWarning: \n",
      "A value is trying to be set on a copy of a slice from a DataFrame.\n",
      "Try using .loc[row_indexer,col_indexer] = value instead\n",
      "\n",
      "See the caveats in the documentation: http://pandas.pydata.org/pandas-docs/stable/indexing.html#indexing-view-versus-copy\n",
      "  # Remove the CWD from sys.path while we load stuff.\n"
     ]
    }
   ],
   "source": [
    "# 6. Finally transform two obj_columns category_name and brand_name for tokenization\n",
    "te_cm = Tokenizer()\n",
    "te_cm.fit_on_texts(data.category_name.values)\n",
    "dtrain[\"cm\"] = te_cm.texts_to_sequences(dtrain.category_name)\n",
    "dtest[\"cm\"] = te_cm.texts_to_sequences(dtest.category_name)\n",
    "\n",
    "te_bn = Tokenizer()\n",
    "te_bn.fit_on_texts(data.brand_name.values)\n",
    "dtrain[\"bn\"] = te_bn.texts_to_sequences(dtrain.brand_name)\n",
    "dtest[\"bn\"] = te_bn.texts_to_sequences(dtest.brand_name)"
   ]
  },
  {
   "cell_type": "code",
   "execution_count": 122,
   "metadata": {},
   "outputs": [
    {
     "data": {
      "text/plain": [
       "(1037774, 11)"
      ]
     },
     "execution_count": 122,
     "metadata": {},
     "output_type": "execute_result"
    }
   ],
   "source": [
    "dtrain.shape"
   ]
  },
  {
   "cell_type": "code",
   "execution_count": 123,
   "metadata": {},
   "outputs": [
    {
     "data": {
      "text/plain": [
       "(444761, 11)"
      ]
     },
     "execution_count": 123,
     "metadata": {},
     "output_type": "execute_result"
    }
   ],
   "source": [
    "dtest.shape"
   ]
  },
  {
   "cell_type": "code",
   "execution_count": 124,
   "metadata": {},
   "outputs": [
    {
     "name": "stdout",
     "output_type": "stream",
     "text": [
      "8\n"
     ]
    },
    {
     "data": {
      "text/plain": [
       "8"
      ]
     },
     "execution_count": 124,
     "metadata": {},
     "output_type": "execute_result"
    }
   ],
   "source": [
    "# 8. Get max length of the sequences\n",
    "##\n",
    "maxlen_cm = 0\n",
    "for i in dtrain[\"cm\"]:\n",
    "\tif maxlen_cm < len(i):\n",
    "\t\tmaxlen_cm = len(i)\n",
    "\n",
    "for i in dtest[\"cm\"]:\n",
    "\tif maxlen_cm < len(i):\n",
    "\t\tmaxlen_cm = len(i)\n",
    "\n",
    "print(maxlen_cm)     \n",
    "##\n",
    "maxlen_bn = 0\n",
    "for i in dtrain[\"bn\"]:\n",
    "\tif maxlen_bn < len(i):\n",
    "\t\tmaxlen_bn = len(i)\n",
    "\n",
    "for i in dtest[\"bn\"]:\n",
    "\tif maxlen_bn < len(i):\n",
    "\t\tmaxlen_bn = len(i)\n",
    "\n",
    "maxlen_bn     "
   ]
  },
  {
   "cell_type": "code",
   "execution_count": 144,
   "metadata": {},
   "outputs": [
    {
     "name": "stdout",
     "output_type": "stream",
     "text": [
      "1022\n",
      "5117\n"
     ]
    }
   ],
   "source": [
    "one = np.max([np.max(i) for i in dtrain[\"cm\"].tolist() ])\n",
    "two = np.max([np.max(i) for i in dtest[\"cm\"].tolist() ])\n",
    "MAX_VOCAB_CM = np.max([one,two])\n",
    "print(MAX_VOCAB_CM)\n",
    "one = np.max([np.max(i) for i in dtrain[\"bn\"].tolist() ])\n",
    "two = np.max([np.max(i) for i in dtest[\"bn\"].tolist() ])\n",
    "MAX_VOCAB_BN = np.max([one,two])\n",
    "print(MAX_VOCAB_BN)"
   ]
  },
  {
   "cell_type": "code",
   "execution_count": 145,
   "metadata": {},
   "outputs": [
    {
     "name": "stdout",
     "output_type": "stream",
     "text": [
      "1225268\n",
      "1225272\n",
      "1281426\n",
      "1225272\n"
     ]
    }
   ],
   "source": [
    "#MAX_VOCAB_NM = len(dtrain.name.value_counts())\n",
    "MAX_VOCAB_NM1 = np.max(dtrain[\"nm\"])\n",
    "print(MAX_VOCAB_NM1)\n",
    "#MAX_VOCAB_ID = len(dtrain.item_description.value_counts())\n",
    "MAX_VOCAB_ID1 = np.max(dtrain[\"ids\"])\n",
    "MAX_VOCAB_ID1\n",
    "#MAX_VOCAB_NM = len(dtrain.name.value_counts())\n",
    "MAX_VOCAB_NM2 = np.max(dtest[\"nm\"])\n",
    "print(MAX_VOCAB_NM2)\n",
    "#MAX_VOCAB_ID = len(dtrain.item_description.value_counts())\n",
    "MAX_VOCAB_ID2 = np.max(dtest[\"ids\"])\n",
    "MAX_VOCAB_ID2\n",
    "MAX_VOCAB_ID = np.max([MAX_VOCAB_ID1,MAX_VOCAB_ID2])\n",
    "MAX_VOCAB_NM = np.max([MAX_VOCAB_NM1,MAX_VOCAB_NM2])\n",
    "print(MAX_VOCAB_ID)\n",
    "print(MAX_VOCAB_NM)"
   ]
  },
  {
   "cell_type": "code",
   "execution_count": 146,
   "metadata": {},
   "outputs": [],
   "source": [
    "# 10.1 Training data\n",
    "Xtr = {\n",
    "\t\"ohe\" : dtrain_ohe.toarray(),        # Note the name 'ohe'\n",
    "\t\"cm\"  : pad_sequences(dtrain.cm, maxlen=maxlen_cm),\n",
    "\t\"bn\"  : pad_sequences(dtrain.bn, maxlen=maxlen_bn),\n",
    "    \"nm\"  : dtrain[\"nm\"].values,\n",
    "\t\"ids\" : dtrain[\"ids\"].values,\n",
    "      }\n",
    "\n",
    "# 10.2 Test data\n",
    "Xte = {\n",
    "\t\"ohe\" : dtest_ohe.toarray(),\n",
    "\t\"cm\"  : pad_sequences(dtest.cm, maxlen=maxlen_cm),\n",
    "\t\"bn\"  : pad_sequences(dtest.bn, maxlen=maxlen_bn),\n",
    "    \"nm\"  : dtest[\"nm\"].values,\n",
    "\t\"ids\" : dtest[\"ids\"].values,\n",
    "      }"
   ]
  },
  {
   "cell_type": "code",
   "execution_count": 147,
   "metadata": {},
   "outputs": [
    {
     "name": "stdout",
     "output_type": "stream",
     "text": [
      "(1037774, 7)\n",
      "(1037774,)\n",
      "(1037774, 8)\n",
      "(1037774, 8)\n",
      "(1037774,)\n"
     ]
    }
   ],
   "source": [
    "print(Xtr[\"ohe\"].shape)        \n",
    "print(Xtr[\"nm\"].shape)         \n",
    "print(Xtr[\"cm\"].shape)         \n",
    "print(Xtr[\"bn\"].shape)         \n",
    "print(Xtr[\"ids\"].shape)         "
   ]
  },
  {
   "cell_type": "code",
   "execution_count": 148,
   "metadata": {},
   "outputs": [],
   "source": [
    "# 11. Design a simple model now\n",
    "\n",
    "ohe =  Input(shape= (Xtr[\"ohe\"].shape[1], ),name = \"ohe\" )\n",
    "\n",
    "nm =   Input(shape= [1],name = \"nm\")\n",
    "\n",
    "ids =   Input(shape= [1],name = \"ids\")\n",
    "\n",
    "cm =   Input(shape= (Xtr[\"cm\"].shape[1],),name = \"cm\")\n",
    "\n",
    "bn =   Input(shape= (Xtr[\"bn\"].shape[1],),name = \"bn\")"
   ]
  },
  {
   "cell_type": "code",
   "execution_count": 149,
   "metadata": {},
   "outputs": [],
   "source": [
    "emb_cm  =      Embedding(MAX_VOCAB_CM+ 1 ,      32  )(cm)\n",
    "emb_bn  =      Embedding(MAX_VOCAB_BN+ 1 ,      32  )(bn)\n",
    "emb_nm  =      Embedding(MAX_VOCAB_NM+ 1 ,      32  )(nm)\n",
    "emb_ids  =      Embedding(MAX_VOCAB_ID+ 1 ,      32  )(ids)"
   ]
  },
  {
   "cell_type": "code",
   "execution_count": 150,
   "metadata": {},
   "outputs": [],
   "source": [
    "rnn_cm = GRU(16) (emb_cm)\n",
    "rnn_bn = GRU(16) (emb_bn)"
   ]
  },
  {
   "cell_type": "code",
   "execution_count": 151,
   "metadata": {},
   "outputs": [
    {
     "name": "stdout",
     "output_type": "stream",
     "text": [
      "__________________________________________________________________________________________________\n",
      "Layer (type)                    Output Shape         Param #     Connected to                     \n",
      "==================================================================================================\n",
      "cm (InputLayer)                 (None, 8)            0                                            \n",
      "__________________________________________________________________________________________________\n",
      "bn (InputLayer)                 (None, 8)            0                                            \n",
      "__________________________________________________________________________________________________\n",
      "nm (InputLayer)                 (None, 1)            0                                            \n",
      "__________________________________________________________________________________________________\n",
      "embedding_17 (Embedding)        (None, 8, 32)        32736       cm[0][0]                         \n",
      "__________________________________________________________________________________________________\n",
      "embedding_18 (Embedding)        (None, 8, 32)        163776      bn[0][0]                         \n",
      "__________________________________________________________________________________________________\n",
      "ids (InputLayer)                (None, 1)            0                                            \n",
      "__________________________________________________________________________________________________\n",
      "ohe (InputLayer)                (None, 7)            0                                            \n",
      "__________________________________________________________________________________________________\n",
      "embedding_19 (Embedding)        (None, 1, 32)        39208736    nm[0][0]                         \n",
      "__________________________________________________________________________________________________\n",
      "gru_9 (GRU)                     (None, 16)           2352        embedding_17[0][0]               \n",
      "__________________________________________________________________________________________________\n",
      "gru_10 (GRU)                    (None, 16)           2352        embedding_18[0][0]               \n",
      "__________________________________________________________________________________________________\n",
      "embedding_20 (Embedding)        (None, 1, 32)        41005664    ids[0][0]                        \n",
      "==================================================================================================\n",
      "Total params: 80,415,616\n",
      "Trainable params: 80,415,616\n",
      "Non-trainable params: 0\n",
      "__________________________________________________________________________________________________\n"
     ]
    }
   ],
   "source": [
    "model = Model([ohe,nm,cm,bn,ids], [ohe, emb_nm, rnn_cm, rnn_bn, emb_ids])\n",
    "model.summary()"
   ]
  },
  {
   "cell_type": "code",
   "execution_count": 152,
   "metadata": {},
   "outputs": [],
   "source": [
    "class_l = concatenate([\n",
    "                      rnn_cm,        # GRU output is already 1D\n",
    "                      rnn_bn,\n",
    "                      ohe,           # 1D output\n",
    "\t\t\t\t\t  Flatten()(emb_nm),   \n",
    "\t\t\t\t\t  Flatten()(emb_ids)\n",
    "                      ]\n",
    "                     )"
   ]
  },
  {
   "cell_type": "code",
   "execution_count": 153,
   "metadata": {},
   "outputs": [],
   "source": [
    "class_l = Dense(64) (class_l)\n",
    "class_l = Dropout(0.1)(class_l)\n",
    "class_l = Dense(32) (class_l)\n",
    "class_l = Dropout(0.1) (class_l)"
   ]
  },
  {
   "cell_type": "code",
   "execution_count": 154,
   "metadata": {},
   "outputs": [],
   "source": [
    "output = Dense(1, activation=\"linear\") (class_l)"
   ]
  },
  {
   "cell_type": "code",
   "execution_count": 155,
   "metadata": {},
   "outputs": [],
   "source": [
    "model = Model(\n",
    "              inputs= [ohe, nm, cm, bn, ids],\n",
    "              outputs= output\n",
    "             )"
   ]
  },
  {
   "cell_type": "code",
   "execution_count": 156,
   "metadata": {},
   "outputs": [
    {
     "name": "stdout",
     "output_type": "stream",
     "text": [
      "__________________________________________________________________________________________________\n",
      "Layer (type)                    Output Shape         Param #     Connected to                     \n",
      "==================================================================================================\n",
      "cm (InputLayer)                 (None, 8)            0                                            \n",
      "__________________________________________________________________________________________________\n",
      "bn (InputLayer)                 (None, 8)            0                                            \n",
      "__________________________________________________________________________________________________\n",
      "nm (InputLayer)                 (None, 1)            0                                            \n",
      "__________________________________________________________________________________________________\n",
      "ids (InputLayer)                (None, 1)            0                                            \n",
      "__________________________________________________________________________________________________\n",
      "embedding_17 (Embedding)        (None, 8, 32)        32736       cm[0][0]                         \n",
      "__________________________________________________________________________________________________\n",
      "embedding_18 (Embedding)        (None, 8, 32)        163776      bn[0][0]                         \n",
      "__________________________________________________________________________________________________\n",
      "embedding_19 (Embedding)        (None, 1, 32)        39208736    nm[0][0]                         \n",
      "__________________________________________________________________________________________________\n",
      "embedding_20 (Embedding)        (None, 1, 32)        41005664    ids[0][0]                        \n",
      "__________________________________________________________________________________________________\n",
      "gru_9 (GRU)                     (None, 16)           2352        embedding_17[0][0]               \n",
      "__________________________________________________________________________________________________\n",
      "gru_10 (GRU)                    (None, 16)           2352        embedding_18[0][0]               \n",
      "__________________________________________________________________________________________________\n",
      "ohe (InputLayer)                (None, 7)            0                                            \n",
      "__________________________________________________________________________________________________\n",
      "flatten_9 (Flatten)             (None, 32)           0           embedding_19[0][0]               \n",
      "__________________________________________________________________________________________________\n",
      "flatten_10 (Flatten)            (None, 32)           0           embedding_20[0][0]               \n",
      "__________________________________________________________________________________________________\n",
      "concatenate_5 (Concatenate)     (None, 103)          0           gru_9[0][0]                      \n",
      "                                                                 gru_10[0][0]                     \n",
      "                                                                 ohe[0][0]                        \n",
      "                                                                 flatten_9[0][0]                  \n",
      "                                                                 flatten_10[0][0]                 \n",
      "__________________________________________________________________________________________________\n",
      "dense_13 (Dense)                (None, 64)           6656        concatenate_5[0][0]              \n",
      "__________________________________________________________________________________________________\n",
      "dropout_9 (Dropout)             (None, 64)           0           dense_13[0][0]                   \n",
      "__________________________________________________________________________________________________\n",
      "dense_14 (Dense)                (None, 32)           2080        dropout_9[0][0]                  \n",
      "__________________________________________________________________________________________________\n",
      "dropout_10 (Dropout)            (None, 32)           0           dense_14[0][0]                   \n",
      "__________________________________________________________________________________________________\n",
      "dense_15 (Dense)                (None, 1)            33          dropout_10[0][0]                 \n",
      "==================================================================================================\n",
      "Total params: 80,424,385\n",
      "Trainable params: 80,424,385\n",
      "Non-trainable params: 0\n",
      "__________________________________________________________________________________________________\n"
     ]
    }
   ],
   "source": [
    "model.summary()"
   ]
  },
  {
   "cell_type": "code",
   "execution_count": 157,
   "metadata": {},
   "outputs": [
    {
     "data": {
      "text/plain": [
       "<matplotlib.image.AxesImage at 0x772ae9668>"
      ]
     },
     "execution_count": 157,
     "metadata": {},
     "output_type": "execute_result"
    },
    {
     "data": {
      "image/png": "[encoded data removed]",
      "text/plain": [
       "<Figure size 1008x1008 with 1 Axes>"
      ]
     },
     "metadata": {
      "needs_background": "light"
     },
     "output_type": "display_data"
    }
   ],
   "source": [
    "plt.figure(figsize = (14,14))\n",
    "plot_model(model, to_file = \"model.png\")\n",
    "io.imshow(\"model.png\")"
   ]
  },
  {
   "cell_type": "code",
   "execution_count": 158,
   "metadata": {},
   "outputs": [],
   "source": [
    "model.compile(loss=\"mse\",\n",
    "              optimizer=\"adam\",\n",
    "              metrics=[\"mae\"]\n",
    "\t\t\t  )"
   ]
  },
  {
   "cell_type": "code",
   "execution_count": 161,
   "metadata": {},
   "outputs": [],
   "source": [
    "BATCH_SIZE = 50000\n",
    "epochs = 20"
   ]
  },
  {
   "cell_type": "code",
   "execution_count": 162,
   "metadata": {},
   "outputs": [
    {
     "name": "stdout",
     "output_type": "stream",
     "text": [
      "Train on 1037774 samples, validate on 444761 samples\n",
      "Epoch 1/20\n",
      "1037774/1037774 [==============================] - 46s 44us/step - loss: 1131.8314 - mean_absolute_error: 13.9341 - val_loss: 1107.0508 - val_mean_absolute_error: 14.7036\n",
      "Epoch 2/20\n",
      "1037774/1037774 [==============================] - 46s 44us/step - loss: 994.2482 - mean_absolute_error: 11.7402 - val_loss: 1072.8570 - val_mean_absolute_error: 15.1461\n",
      "Epoch 3/20\n",
      "1037774/1037774 [==============================] - 47s 46us/step - loss: 828.5545 - mean_absolute_error: 9.4948 - val_loss: 1066.2321 - val_mean_absolute_error: 16.1182\n",
      "Epoch 4/20\n",
      "1037774/1037774 [==============================] - 47s 45us/step - loss: 671.4686 - mean_absolute_error: 8.1758 - val_loss: 1102.7563 - val_mean_absolute_error: 17.8262\n",
      "Epoch 5/20\n",
      "1037774/1037774 [==============================] - 48s 46us/step - loss: 545.1450 - mean_absolute_error: 7.4110 - val_loss: 1164.7894 - val_mean_absolute_error: 19.5284\n",
      "Epoch 6/20\n",
      "1037774/1037774 [==============================] - 47s 45us/step - loss: 457.0974 - mean_absolute_error: 7.3697 - val_loss: 1227.0198 - val_mean_absolute_error: 20.7568\n",
      "Epoch 7/20\n",
      "1037774/1037774 [==============================] - 46s 45us/step - loss: 395.9826 - mean_absolute_error: 7.5247 - val_loss: 1288.3732 - val_mean_absolute_error: 21.6871\n",
      "Epoch 8/20\n",
      "1037774/1037774 [==============================] - 46s 44us/step - loss: 353.0333 - mean_absolute_error: 7.6023 - val_loss: 1357.6265 - val_mean_absolute_error: 22.8395\n",
      "Epoch 9/20\n",
      "1037774/1037774 [==============================] - 46s 45us/step - loss: 315.6693 - mean_absolute_error: 7.4766 - val_loss: 1432.1855 - val_mean_absolute_error: 23.8484\n",
      "Epoch 10/20\n",
      "1037774/1037774 [==============================] - 47s 45us/step - loss: 285.3653 - mean_absolute_error: 7.1869 - val_loss: 1498.0221 - val_mean_absolute_error: 24.5853\n",
      "Epoch 11/20\n",
      "1037774/1037774 [==============================] - 47s 45us/step - loss: 257.0028 - mean_absolute_error: 6.9756 - val_loss: 1561.4579 - val_mean_absolute_error: 25.4054\n",
      "Epoch 12/20\n",
      "1037774/1037774 [==============================] - 46s 45us/step - loss: 233.5813 - mean_absolute_error: 6.8299 - val_loss: 1618.3563 - val_mean_absolute_error: 25.9044\n",
      "Epoch 13/20\n",
      "1037774/1037774 [==============================] - 47s 45us/step - loss: 218.1854 - mean_absolute_error: 6.7155 - val_loss: 1682.2618 - val_mean_absolute_error: 26.6076\n",
      "Epoch 14/20\n",
      "1037774/1037774 [==============================] - 47s 45us/step - loss: 202.1406 - mean_absolute_error: 6.6435 - val_loss: 1726.1923 - val_mean_absolute_error: 27.0205\n",
      "Epoch 15/20\n",
      "1037774/1037774 [==============================] - 47s 45us/step - loss: 189.8509 - mean_absolute_error: 6.5747 - val_loss: 1782.2424 - val_mean_absolute_error: 27.5961\n",
      "Epoch 16/20\n",
      "1037774/1037774 [==============================] - 49s 47us/step - loss: 181.6078 - mean_absolute_error: 6.5351 - val_loss: 1838.5280 - val_mean_absolute_error: 28.1338\n",
      "Epoch 17/20\n",
      "1037774/1037774 [==============================] - 47s 45us/step - loss: 169.6254 - mean_absolute_error: 6.4367 - val_loss: 1866.8752 - val_mean_absolute_error: 28.3100\n",
      "Epoch 18/20\n",
      "1037774/1037774 [==============================] - 46s 45us/step - loss: 162.1677 - mean_absolute_error: 6.3859 - val_loss: 1886.2093 - val_mean_absolute_error: 28.4219\n",
      "Epoch 19/20\n",
      "1037774/1037774 [==============================] - 47s 45us/step - loss: 154.4286 - mean_absolute_error: 6.2962 - val_loss: 1923.3527 - val_mean_absolute_error: 28.6817\n",
      "Epoch 20/20\n",
      "1037774/1037774 [==============================] - 47s 46us/step - loss: 149.1725 - mean_absolute_error: 6.2034 - val_loss: 1972.4372 - val_mean_absolute_error: 29.2037\n",
      "15.628931605815888\n"
     ]
    }
   ],
   "source": [
    "start = time.time()\n",
    "history= model.fit(Xtr,\n",
    "                   dtrain.price,\n",
    "                   epochs=epochs,\n",
    "                   batch_size=BATCH_SIZE,\n",
    "\t\t\t\t   validation_data=(Xte, dtest.price),\n",
    "\t\t\t\t   verbose = 1\n",
    "                  )\n",
    "end = time.time()\n",
    "print((end-start)/60)"
   ]
  },
  {
   "cell_type": "code",
   "execution_count": null,
   "metadata": {},
   "outputs": [],
   "source": []
  }
 ],
 "metadata": {
  "kernelspec": {
   "display_name": "Python 3",
   "language": "python",
   "name": "python3"
  },
  "language_info": {
   "codemirror_mode": {
    "name": "ipython",
    "version": 3
   },
   "file_extension": ".py",
   "mimetype": "text/x-python",
   "name": "python",
   "nbconvert_exporter": "python",
   "pygments_lexer": "ipython3",
   "version": "3.7.3"
  }
 },
 "nbformat": 4,
 "nbformat_minor": 2
}
